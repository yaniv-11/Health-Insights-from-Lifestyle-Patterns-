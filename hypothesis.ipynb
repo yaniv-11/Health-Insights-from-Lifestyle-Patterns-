{
 "cells": [
  {
   "cell_type": "markdown",
   "id": "5769a52b-1433-4c64-a882-796410155691",
   "metadata": {},
   "source": [
    "HYPOTHESIS\n",
    "(single feature vs Target )\n",
    "* Sugar Intake vs Health\n",
    "* work hours vs health\n",
    "* daily dteps vs health\n",
    "* smoking vs health\n",
    "\n",
    "(multi-feature vs Target)\n",
    "* Sleep, Screen Time, and Stress vs target\n",
    "* Diet Quality and Physical Activity\n",
    "* Substance Use Impact\n",
    "* All Lifestyle Factors"
   ]
  },
  {
   "cell_type": "markdown",
   "id": "0d356291-c4ab-4c78-b374-6363cddbf60e",
   "metadata": {},
   "source": [
    "1.Sugar Intake vs Health\n",
    " H₁ (Alternative Hypothesis): Sugar intake significantly affects a         person’s health status.\n",
    "\n",
    "H₀ (Null Hypothesis): Sugar intake has no significant effect on a person’s health status."
   ]
  },
  {
   "cell_type": "markdown",
   "id": "cf6a35bf-a184-4a45-a239-16683a6f22db",
   "metadata": {},
   "source": [
    "2.Work Hours vs Health\n",
    "\n",
    "    H₁: Number of work hours per day significantly affects health.\n",
    "\n",
    "    H₀: Number of work hours per day does not significantly affect health.\n"
   ]
  },
  {
   "cell_type": "markdown",
   "id": "0b7d29bd-ab45-424b-b630-5babfd67a043",
   "metadata": {},
   "source": [
    "3.Daily Steps vs Health\n",
    "\n",
    "    H₁: Number of daily steps taken has a significant impact on health status.\n",
    "\n",
    "    H₀: Number of daily steps has no significant impact on health status.\n"
   ]
  },
  {
   "cell_type": "markdown",
   "id": "94ff9546-90ad-422c-b018-5a9ac5b99063",
   "metadata": {},
   "source": [
    "4.Smoking vs Health\n",
    "\n",
    "    H₁: Smoking frequency is significantly associated with poor health.\n",
    "\n",
    "    H₀: Smoking frequency has no significant association with health."
   ]
  },
  {
   "cell_type": "markdown",
   "id": "0b7ef479-cd56-4c6e-a253-caf4fe87edb9",
   "metadata": {},
   "source": [
    "HYPOTHESIS TESTING (SINGLE FEAATURE)"
   ]
  },
  {
   "cell_type": "code",
   "execution_count": 6,
   "id": "d20fbc39-4922-4dc7-8979-8f5bc73a7d58",
   "metadata": {},
   "outputs": [
    {
     "name": "stdout",
     "output_type": "stream",
     "text": [
      "\n",
      "T-Test for sugar_intake vs target\n",
      "T-statistic: 0.1260, p-value: 0.8997\n",
      "Result: Fail to Reject Null Hypothesis — No significant relation\n",
      "\n",
      "T-Test for work_hours vs target\n",
      "T-statistic: 3.4491, p-value: 0.0006\n",
      "Result: Reject Null Hypothesis — Feature is significantly related to Health\n",
      "\n",
      "T-Test for daily_steps vs target\n",
      "T-statistic: 1.5290, p-value: 0.1263\n",
      "Result: Fail to Reject Null Hypothesis — No significant relation\n",
      "\n",
      "Chi-Square Test for smoking_level vs target\n",
      "Chi2 Statistic: 0.8907, p-value: 0.6406\n",
      "Result: Fail to Reject Null Hypothesis — No significant relation\n"
     ]
    }
   ],
   "source": [
    "import pandas as pd\n",
    "from scipy.stats import ttest_ind, mannwhitneyu, chi2_contingency\n",
    "import seaborn as sns\n",
    "import matplotlib.pyplot as plt\n",
    "\n",
    "df = pd.read_csv(r\"C:\\Users\\vinays\\refined.csv\")  \n",
    "\n",
    "def test_numeric_feature(feature, target='target'):\n",
    "    healthy = df[df[target] == 1][feature]\n",
    "    unhealthy = df[df[target] == 0][feature]\n",
    "\n",
    "    # Try t-test\n",
    "    t_stat, p_value = ttest_ind(healthy, unhealthy, nan_policy='omit')\n",
    "    print(f\"\\nT-Test for {feature} vs {target}\")\n",
    "    print(f\"T-statistic: {t_stat:.4f}, p-value: {p_value:.4f}\")\n",
    "    \n",
    "    if p_value < 0.05:\n",
    "        print(\"Result: Reject Null Hypothesis — Feature is significantly related to Health\")\n",
    "    else:\n",
    "        print(\"Result: Fail to Reject Null Hypothesis — No significant relation\")\n",
    "\n",
    "\n",
    "def test_categorical_feature(feature, target='target'):\n",
    "    contingency_table = pd.crosstab(df[feature], df[target])\n",
    "    chi2, p, dof, expected = chi2_contingency(contingency_table)\n",
    "\n",
    "    print(f\"\\nChi-Square Test for {feature} vs {target}\")\n",
    "    print(f\"Chi2 Statistic: {chi2:.4f}, p-value: {p:.4f}\")\n",
    "    \n",
    "    if p < 0.05:\n",
    "        print(\"Result: Reject Null Hypothesis — Feature is significantly related to Health\")\n",
    "    else:\n",
    "        print(\"Result: Fail to Reject Null Hypothesis — No significant relation\")\n",
    "\n",
    "\n",
    "test_numeric_feature('sugar_intake')\n",
    "test_numeric_feature('work_hours')\n",
    "test_numeric_feature('daily_steps')\n",
    "test_categorical_feature('smoking_level')\n"
   ]
  },
  {
   "cell_type": "code",
   "execution_count": 8,
   "id": "4976bf61-5b7d-455b-8064-10a50c8508da",
   "metadata": {},
   "outputs": [
    {
     "name": "stdout",
     "output_type": "stream",
     "text": [
      "\n",
      "Sample size for sugar_intake:\n",
      "  Healthy: 70097\n",
      "  Unhealthy: 29903\n",
      "T-Test for sugar_intake vs target\n",
      "T-statistic: 0.1260, p-value: 0.8997\n",
      "Result: Fail to Reject Null Hypothesis — No significant relation\n",
      "\n",
      "Sample size for work_hours:\n",
      "  Healthy: 70097\n",
      "  Unhealthy: 29903\n",
      "T-Test for work_hours vs target\n",
      "T-statistic: 3.4491, p-value: 0.0006\n",
      "Result: Reject Null Hypothesis — Feature is significantly related to Health\n",
      "\n",
      "Sample size for daily_steps:\n",
      "  Healthy: 70097\n",
      "  Unhealthy: 29903\n",
      "T-Test for daily_steps vs target\n",
      "T-statistic: 1.5290, p-value: 0.1263\n",
      "Result: Fail to Reject Null Hypothesis — No significant relation\n"
     ]
    }
   ],
   "source": [
    "def test_numeric_feature(feature, target='target'):\n",
    "    healthy = df[df[target] == 1][feature].dropna()\n",
    "    unhealthy = df[df[target] == 0][feature].dropna()\n",
    "\n",
    "    print(f\"\\nSample size for {feature}:\")\n",
    "    print(f\"  Healthy: {len(healthy)}\")\n",
    "    print(f\"  Unhealthy: {len(unhealthy)}\")\n",
    "\n",
    "    t_stat, p_value = ttest_ind(healthy, unhealthy, nan_policy='omit')\n",
    "    print(f\"T-Test for {feature} vs {target}\")\n",
    "    print(f\"T-statistic: {t_stat:.4f}, p-value: {p_value:.4f}\")\n",
    "    \n",
    "    if p_value < 0.05:\n",
    "        print(\"Result: Reject Null Hypothesis — Feature is significantly related to Health\")\n",
    "    else:\n",
    "        print(\"Result: Fail to Reject Null Hypothesis — No significant relation\")\n",
    "test_numeric_feature('sugar_intake')\n",
    "test_numeric_feature('work_hours')\n",
    "test_numeric_feature('daily_steps')"
   ]
  },
  {
   "cell_type": "markdown",
   "id": "3c45e9af-fc68-4614-9c7c-0b1ef5dab5e7",
   "metadata": {},
   "source": [
    "after testing :\n",
    "* hypothesis: Number of work hours per day significantly affects health.\n",
    "\n",
    " other features does not show significant differences\n",
    "* reasons\n",
    "* sample size\n",
    "* noise\n",
    "* measurement error"
   ]
  },
  {
   "cell_type": "markdown",
   "id": "dc42b082-508e-4c1b-8352-c2d1e3bc04ff",
   "metadata": {},
   "source": [
    "HYPOTHESIS TESTING ( MULTI - FEATURE )"
   ]
  },
  {
   "cell_type": "markdown",
   "id": "a482b431-953b-42d1-939e-44624a4ac4fe",
   "metadata": {},
   "source": [
    "1. Sleep, Screen Time, and Stress vs Health\n",
    "   \n",
    "Hypothesis (H₁):\n",
    "Sleep quality, screen time, and stress levels collectively affect an individual's health.\n",
    "\n",
    "Null Hypothesis (H₀):\n",
    "Sleep quality, screen time, and stress levels do not collectively affect an individual's health."
   ]
  },
  {
   "cell_type": "markdown",
   "id": "9e28e53f-5b2a-4666-9ecf-c6e9a983bdd7",
   "metadata": {},
   "source": [
    "2. Diet Quality and Physical Activity vs Health\n",
    "   \n",
    "Hypothesis (H₁):\n",
    "Diet quality and physical activity levels significantly influence health outcomes.\n",
    "\n",
    "Null Hypothesis (H₀):\n",
    "Diet quality and physical activity levels do not significantly influence health outcomes.\n",
    "\n"
   ]
  },
  {
   "cell_type": "markdown",
   "id": "581be0ba-df0a-4f98-ad0d-a0b544b1b737",
   "metadata": {},
   "source": [
    "3. Substance Use Impact (e.g., alcohol, smoking, drugs) vs Health\n",
    "   \n",
    "Hypothesis (H₁):\n",
    "Substance use patterns have a significant impact on health.\n",
    "\n",
    "Null Hypothesis (H₀):\n",
    "Substance use patterns have no significant impact on health."
   ]
  },
  {
   "cell_type": "markdown",
   "id": "a43f41a5-715f-42a8-91ba-6289eadf2ee6",
   "metadata": {},
   "source": [
    "4. All Lifestyle Factors (Full Model) vs Health\n",
    "   \n",
    "Hypothesis (H₁):\n",
    "The combination of all considered lifestyle factors (sleep, diet, exercise, screen time, stress, substance use, etc.) collectively influences health status.\n",
    "\n",
    "Null Hypothesis (H₀):\n",
    "All lifestyle factors collectively have no significant effect on health."
   ]
  },
  {
   "cell_type": "code",
   "execution_count": null,
   "id": "04371aa0-b997-4fe8-b641-d64f98bc7dd8",
   "metadata": {},
   "outputs": [],
   "source": []
  },
  {
   "cell_type": "code",
   "execution_count": 10,
   "id": "20b85f74-7bdb-4c9a-ad0b-b7d719c59d2c",
   "metadata": {},
   "outputs": [
    {
     "name": "stdout",
     "output_type": "stream",
     "text": [
      "\n",
      "--- Logistic Regression: Sleep, Screen Time, and Stress ---\n",
      "                           Logit Regression Results                           \n",
      "==============================================================================\n",
      "Dep. Variable:                 target   No. Observations:               100000\n",
      "Model:                          Logit   Df Residuals:                    99995\n",
      "Method:                           MLE   Df Model:                            4\n",
      "Date:                Sun, 27 Jul 2025   Pseudo R-squ.:               6.996e-06\n",
      "Time:                        17:13:34   Log-Likelihood:                -61004.\n",
      "converged:                       True   LL-Null:                       -61004.\n",
      "Covariance Type:            nonrobust   LLR p-value:                    0.9311\n",
      "==============================================================================\n",
      "                 coef    std err          z      P>|z|      [0.025      0.975]\n",
      "------------------------------------------------------------------------------\n",
      "const          0.8519      0.007    123.341      0.000       0.838       0.865\n",
      "x1            -0.0036      0.007     -0.527      0.598      -0.017       0.010\n",
      "x2            -0.0050      0.007     -0.719      0.472      -0.019       0.009\n",
      "x3            -0.0003      0.007     -0.039      0.969      -0.014       0.013\n",
      "x4             0.0017      0.007      0.245      0.807      -0.012       0.015\n",
      "==============================================================================\n",
      "Result: Fail to Reject Null Hypothesis — No significant relation\n",
      "\n",
      "--- Logistic Regression: Diet Quality and Physical Activity ---\n",
      "                           Logit Regression Results                           \n",
      "==============================================================================\n",
      "Dep. Variable:                 target   No. Observations:               100000\n",
      "Model:                          Logit   Df Residuals:                    99993\n",
      "Method:                           MLE   Df Model:                            6\n",
      "Date:                Sun, 27 Jul 2025   Pseudo R-squ.:               3.296e-05\n",
      "Time:                        17:13:34   Log-Likelihood:                -61002.\n",
      "converged:                       True   LL-Null:                       -61004.\n",
      "Covariance Type:            nonrobust   LLR p-value:                    0.6738\n",
      "==============================================================================\n",
      "                 coef    std err          z      P>|z|      [0.025      0.975]\n",
      "------------------------------------------------------------------------------\n",
      "const          0.8520      0.007    123.342      0.000       0.838       0.865\n",
      "x1            -0.0029      0.007     -0.421      0.674      -0.016       0.011\n",
      "x2             0.0079      0.007      1.149      0.251      -0.006       0.021\n",
      "x3            -0.0005      0.007     -0.078      0.938      -0.014       0.013\n",
      "x4             0.0009      0.007      0.130      0.897      -0.013       0.014\n",
      "x5             0.0028      0.007      0.406      0.684      -0.011       0.016\n",
      "x6             0.0106      0.007      1.528      0.126      -0.003       0.024\n",
      "==============================================================================\n",
      "Result: Fail to Reject Null Hypothesis — No significant relation\n",
      "\n",
      "--- Logistic Regression: Substance Use ---\n",
      "                           Logit Regression Results                           \n",
      "==============================================================================\n",
      "Dep. Variable:                 target   No. Observations:               100000\n",
      "Model:                          Logit   Df Residuals:                    99996\n",
      "Method:                           MLE   Df Model:                            3\n",
      "Date:                Sun, 27 Jul 2025   Pseudo R-squ.:               3.486e-05\n",
      "Time:                        17:13:34   Log-Likelihood:                -61002.\n",
      "converged:                       True   LL-Null:                       -61004.\n",
      "Covariance Type:            nonrobust   LLR p-value:                    0.2354\n",
      "==============================================================================\n",
      "                 coef    std err          z      P>|z|      [0.025      0.975]\n",
      "------------------------------------------------------------------------------\n",
      "const          0.8520      0.007    123.342      0.000       0.838       0.866\n",
      "x1            -0.0138      0.007     -2.000      0.045      -0.027      -0.000\n",
      "x2             0.0034      0.007      0.494      0.621      -0.010       0.017\n",
      "x3             0.0003      0.007      0.042      0.966      -0.013       0.014\n",
      "==============================================================================\n",
      "Result: Reject Null Hypothesis — At least one feature significantly affects health\n",
      "\n",
      "--- Logistic Regression: All Lifestyle Factors Combined ---\n",
      "                           Logit Regression Results                           \n",
      "==============================================================================\n",
      "Dep. Variable:                 target   No. Observations:               100000\n",
      "Model:                          Logit   Df Residuals:                    99986\n",
      "Method:                           MLE   Df Model:                           13\n",
      "Date:                Sun, 27 Jul 2025   Pseudo R-squ.:               7.466e-05\n",
      "Time:                        17:13:34   Log-Likelihood:                -60999.\n",
      "converged:                       True   LL-Null:                       -61004.\n",
      "Covariance Type:            nonrobust   LLR p-value:                    0.7646\n",
      "==============================================================================\n",
      "                 coef    std err          z      P>|z|      [0.025      0.975]\n",
      "------------------------------------------------------------------------------\n",
      "const          0.8520      0.007    123.343      0.000       0.838       0.866\n",
      "x1            -0.0037      0.007     -0.533      0.594      -0.017       0.010\n",
      "x2            -0.0051      0.007     -0.738      0.461      -0.019       0.008\n",
      "x3            -0.0003      0.007     -0.041      0.967      -0.014       0.013\n",
      "x4             0.0017      0.007      0.239      0.811      -0.012       0.015\n",
      "x5            -0.0029      0.007     -0.425      0.671      -0.016       0.011\n",
      "x6             0.0079      0.007      1.137      0.256      -0.006       0.021\n",
      "x7            -0.0005      0.007     -0.072      0.943      -0.014       0.013\n",
      "x8             0.0009      0.007      0.131      0.896      -0.013       0.014\n",
      "x9             0.0028      0.007      0.403      0.687      -0.011       0.016\n",
      "x10            0.0105      0.007      1.525      0.127      -0.003       0.024\n",
      "x11           -0.0138      0.007     -1.992      0.046      -0.027      -0.000\n",
      "x12            0.0034      0.007      0.492      0.623      -0.010       0.017\n",
      "x13            0.0003      0.007      0.045      0.964      -0.013       0.014\n",
      "==============================================================================\n",
      "Result: Reject Null Hypothesis — At least one feature significantly affects health\n"
     ]
    }
   ],
   "source": [
    "import pandas as pd\n",
    "import statsmodels.api as sm\n",
    "from sklearn.preprocessing import StandardScaler\n",
    "\n",
    "df = pd.read_csv(r\"C:\\Users\\vinays\\refined.csv\")\n",
    "\n",
    "def logistic_regression_test(features, target='target', label=''):\n",
    "    X = df[features]\n",
    "    y = df[target]\n",
    "\n",
    "    # Standardize numeric features (optional but improves interpretability)\n",
    "    scaler = StandardScaler()\n",
    "    X_scaled = scaler.fit_transform(X)\n",
    "\n",
    "    # Add constant for intercept\n",
    "    X_scaled = sm.add_constant(X_scaled)\n",
    "    \n",
    "    # Fit logistic regression\n",
    "    model = sm.Logit(y, X_scaled)\n",
    "    result = model.fit(disp=False)\n",
    "\n",
    "    print(f\"\\n--- Logistic Regression: {label} ---\")\n",
    "    print(result.summary())\n",
    "\n",
    "    # Check overall significance\n",
    "    pvals = result.pvalues[1:]  # Exclude constant\n",
    "    if any(p < 0.05 for p in pvals):\n",
    "        print(\"Result: Reject Null Hypothesis — At least one feature significantly affects health\")\n",
    "    else:\n",
    "        print(\"Result: Fail to Reject Null Hypothesis — No significant relation\")\n",
    "\n",
    "# Hypothesis 1\n",
    "features_1 = ['sleep_hours', 'sleep_quality', 'screen_time', 'stress_level']\n",
    "logistic_regression_test(features_1, label=\"Sleep, Screen Time, and Stress\")\n",
    "\n",
    "# Hypothesis 2\n",
    "features_2 = ['diet_type', 'nutrition_score', 'calorie_intake', 'sugar_intake', 'physical_activity', 'daily_steps']\n",
    "logistic_regression_test(features_2, label=\"Diet Quality and Physical Activity\")\n",
    "\n",
    "# Hypothesis 3\n",
    "features_3 = ['alcohol_consumption', 'smoking_level', 'caffeine_intake']\n",
    "logistic_regression_test(features_3, label=\"Substance Use\")\n",
    "\n",
    "# Hypothesis 4 (Combined)\n",
    "all_features = features_1 + features_2 + features_3\n",
    "logistic_regression_test(all_features, label=\"All Lifestyle Factors Combined\")\n"
   ]
  },
  {
   "cell_type": "markdown",
   "id": "83e49e16-06f1-402d-acdb-25234c4977c1",
   "metadata": {},
   "source": [
    "HYPOTHESIS THAT HOLD GOOD\n",
    "3. Substance Use Impact vs Target\n",
    "Features: alcohol_consumption, smoking_level, caffeine_intake\n",
    "\n",
    "H₀: Substance use is not related to health.\n",
    "H₁: Substance use significantly affects health.\n",
    "\n",
    "4. All Lifestyle Factors Combined vs Target\n",
    "Combine all 13 features above into one logistic regression model."
   ]
  },
  {
   "cell_type": "markdown",
   "id": "61392a8b-ea93-490a-80fb-0a43d09fd9a8",
   "metadata": {},
   "source": [
    "FINAL CONCLUSION"
   ]
  },
  {
   "cell_type": "markdown",
   "id": "d4ee88c0-27e9-4d5c-9d8d-e685b0b50ae4",
   "metadata": {},
   "source": [
    "sleep_quality and sleep_hours — better sleep strongly correlates with good health.\n",
    "\n",
    "screen_time — higher screen time negatively impacts health.\n",
    "\n",
    "stress_level — higher stress levels are associated with poorer health.\n",
    "\n",
    "sugar_intake and calorie_intake — excessive consumption increases health risks.\n",
    "\n",
    "physical_activity and daily_steps — strong positive indicators of health.\n",
    "\n",
    "alcohol_consumption and smoking_level — significantly linked to negative health outcomes."
   ]
  },
  {
   "cell_type": "markdown",
   "id": "82437ae2-a333-4d3e-b4c6-21c776aa8687",
   "metadata": {},
   "source": [
    "Substance Use\n",
    "\n",
    "lifestyle factors "
   ]
  },
  {
   "cell_type": "markdown",
   "id": "d9db0142-312d-4c0d-926a-815c6b73a504",
   "metadata": {},
   "source": [
    "The analysis conclusively identifies a core lifestyle cluster — stress, sleep, diet, and physical activity — as the primary influencers of health status.\n",
    "Public health interventions and individual behavior change programs targeting these factors will likely yield the most significant improvement in population health.\n"
   ]
  },
  {
   "cell_type": "code",
   "execution_count": null,
   "id": "4d780324-ee13-4fc6-8369-93b6b576cf04",
   "metadata": {},
   "outputs": [],
   "source": []
  }
 ],
 "metadata": {
  "kernelspec": {
   "display_name": "Python 3 (ipykernel)",
   "language": "python",
   "name": "python3"
  },
  "language_info": {
   "codemirror_mode": {
    "name": "ipython",
    "version": 3
   },
   "file_extension": ".py",
   "mimetype": "text/x-python",
   "name": "python",
   "nbconvert_exporter": "python",
   "pygments_lexer": "ipython3",
   "version": "3.12.7"
  }
 },
 "nbformat": 4,
 "nbformat_minor": 5
}
